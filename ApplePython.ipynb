{
  "nbformat": 4,
  "nbformat_minor": 0,
  "metadata": {
    "colab": {
      "provenance": []
    },
    "kernelspec": {
      "name": "python3",
      "display_name": "Python 3"
    },
    "language_info": {
      "name": "python"
    }
  },
  "cells": [
    {
      "cell_type": "code",
      "execution_count": null,
      "metadata": {
        "colab": {
          "base_uri": "https://localhost:8080/"
        },
        "id": "n4hYvTkzEppR",
        "outputId": "f8db8e58-f8c2-4efe-90b4-51c6fed6bc59"
      },
      "outputs": [
        {
          "output_type": "stream",
          "name": "stdout",
          "text": [
            "Mounted at /content/drive\n"
          ]
        }
      ],
      "source": [
        "from google.colab import drive\n",
        "drive.mount('/content/drive')\n"
      ]
    },
    {
      "cell_type": "code",
      "source": [
        "import pandas as pd"
      ],
      "metadata": {
        "id": "aqNhmFcaE0Z2"
      },
      "execution_count": null,
      "outputs": []
    },
    {
      "cell_type": "code",
      "source": [
        "#file path in Google Drive\n",
        "file_path = \"/content/drive/My Drive/BeforePythonAppleApps36.xlsx\"\n",
        "\n"
      ],
      "metadata": {
        "id": "amYdt3pUE2MZ"
      },
      "execution_count": null,
      "outputs": []
    },
    {
      "cell_type": "code",
      "source": [
        "# Load the Excel file\n",
        "dataapple = pd.read_excel(file_path)  # Use read_excel() for xlsx files\n",
        "\n",
        "# Display the first few rows to confirm it loads correctly\n",
        "print(dataapple.head())\n",
        "print(dataapple.info())"
      ],
      "metadata": {
        "colab": {
          "base_uri": "https://localhost:8080/"
        },
        "id": "5XjKALj6F2y0",
        "outputId": "f4cebd70-2278-4093-ae9d-55bf89782666"
      },
      "execution_count": null,
      "outputs": [
        {
          "output_type": "stream",
          "name": "stdout",
          "text": [
            "           ID                          App ID                        Title  \\\n",
            "0  1460327044            com.Kois.Dentist.App                Healthy Mouth   \n",
            "1  1585628503              com.ddpa.mobileapp      Delta Dental Mobile App   \n",
            "2  6737231555        com.ucargiray.AI-Dentist  Online Dentist: Oral Health   \n",
            "3   971731557              com.sandcastle.sfl  Smiles For Life Oral Health   \n",
            "4  1506403512  com.hiddevdploeg.brushForWatch     Brush · Toothbrush Timer   \n",
            "\n",
            "                                                 URL  \\\n",
            "0  https://apps.apple.com/us/app/healthy-mouth/id...   \n",
            "1  https://apps.apple.com/us/app/delta-dental-mob...   \n",
            "2  https://apps.apple.com/us/app/online-dentist-o...   \n",
            "3  https://apps.apple.com/us/app/smiles-for-life-...   \n",
            "4  https://apps.apple.com/us/app/brush-toothbrush...   \n",
            "\n",
            "                                         Description  \\\n",
            "0  Oral Health Self-Assessment\\nHave you ever won...   \n",
            "1  Your oral health is important to Delta Dental ...   \n",
            "2  Online Dentist: Oral health is an AI-powered a...   \n",
            "3  The Smiles for Life (SFL) Oral Health App is a...   \n",
            "4  Brush is a lightweight toothbrush timer for wa...   \n",
            "\n",
            "                       Genres     Primary Genre Content Rating Languages  \\\n",
            "0    Health & Fitness,Medical  Health & Fitness            12+        EN   \n",
            "1    Medical,Health & Fitness           Medical            12+        EN   \n",
            "2    Medical,Health & Fitness           Medical            17+        EN   \n",
            "3           Medical,Reference           Medical            12+        EN   \n",
            "4  Health & Fitness,Lifestyle  Health & Fitness            12+        EN   \n",
            "\n",
            "       Size  ...   Free Developer ID                       Developer  \\\n",
            "0  78430208  ...   TRUE    513136947                     Kois Center   \n",
            "1  35058688  ...   TRUE    632244315  Delta Dental Plans Association   \n",
            "2  60523520  ...   TRUE   1583246836                Ahmet Giray Ucar   \n",
            "3  37473280  ...   TRUE    784117911                      Sandcastle   \n",
            "4   2621440  ...  FALSE    917457194                      Modum B.V.   \n",
            "\n",
            "                                       Developer URL  \\\n",
            "0  https://apps.apple.com/us/developer/kois-cente...   \n",
            "1  https://apps.apple.com/us/developer/delta-dent...   \n",
            "2  https://apps.apple.com/us/developer/ahmet-gira...   \n",
            "3  https://apps.apple.com/us/developer/sandcastle...   \n",
            "4  https://apps.apple.com/us/developer/modum-b-v/...   \n",
            "\n",
            "                                   Developer Website    Score Reviews  \\\n",
            "0                                                NaN  5.00000       5   \n",
            "1                        https://www.deltadental.com  1.41946    1254   \n",
            "2                                                NaN  2.00000       1   \n",
            "3  https://www.smilesforlifeoralhealth.org/resour...  0.00000       0   \n",
            "4                             https://brushtimer.app  4.62500      48   \n",
            "\n",
            "  Current Version Score  Current Version Reviews  \\\n",
            "0               5.00000                        5   \n",
            "1               1.41946                     1254   \n",
            "2               2.00000                        1   \n",
            "3               0.00000                        0   \n",
            "4               4.62500                       48   \n",
            "\n",
            "                                   Supported Devices  \n",
            "0  iPhone5s-iPhone5s,iPadAir-iPadAir,iPadAirCellu...  \n",
            "1  iPhone5s-iPhone5s,iPadAir-iPadAir,iPadAirCellu...  \n",
            "2  iPhone5s-iPhone5s,iPadAir-iPadAir,iPadAirCellu...  \n",
            "3  iPhone5s-iPhone5s,iPadAir-iPadAir,iPadAirCellu...  \n",
            "4  iPhone5s-iPhone5s,iPadAir-iPadAir,iPadAirCellu...  \n",
            "\n",
            "[5 rows x 27 columns]\n",
            "<class 'pandas.core.frame.DataFrame'>\n",
            "RangeIndex: 34 entries, 0 to 33\n",
            "Data columns (total 27 columns):\n",
            " #   Column                   Non-Null Count  Dtype  \n",
            "---  ------                   --------------  -----  \n",
            " 0   ID                       34 non-null     int64  \n",
            " 1   App ID                   34 non-null     object \n",
            " 2   Title                    34 non-null     object \n",
            " 3   URL                      34 non-null     object \n",
            " 4   Description              34 non-null     object \n",
            " 5   Genres                   34 non-null     object \n",
            " 6   Primary Genre            34 non-null     object \n",
            " 7   Content Rating           34 non-null     object \n",
            " 8   Languages                34 non-null     object \n",
            " 9   Size                     34 non-null     int64  \n",
            " 10  Required OS Version      34 non-null     float64\n",
            " 11  Released                 34 non-null     object \n",
            " 12  Updated                  34 non-null     object \n",
            " 13  Release Notes            29 non-null     object \n",
            " 14  Version                  34 non-null     object \n",
            " 15  Price                    34 non-null     float64\n",
            " 16  Currency                 34 non-null     object \n",
            " 17  Free                     34 non-null     object \n",
            " 18  Developer ID             34 non-null     int64  \n",
            " 19  Developer                34 non-null     object \n",
            " 20  Developer URL            34 non-null     object \n",
            " 21  Developer Website        23 non-null     object \n",
            " 22  Score                    34 non-null     float64\n",
            " 23  Reviews                  34 non-null     int64  \n",
            " 24  Current Version Score    34 non-null     float64\n",
            " 25  Current Version Reviews  34 non-null     int64  \n",
            " 26  Supported Devices        34 non-null     object \n",
            "dtypes: float64(4), int64(5), object(18)\n",
            "memory usage: 7.3+ KB\n",
            "None\n"
          ]
        }
      ]
    },
    {
      "cell_type": "code",
      "source": [
        "print(dataapple[\"Updated\"].head())"
      ],
      "metadata": {
        "colab": {
          "base_uri": "https://localhost:8080/"
        },
        "id": "_cezQbtlF9yh",
        "outputId": "1fd2002a-8182-4db2-8a02-72523250d567"
      },
      "execution_count": null,
      "outputs": [
        {
          "output_type": "stream",
          "name": "stdout",
          "text": [
            "0    2019-12-03T19:12:05Z\n",
            "1    2025-01-14T09:40:56Z\n",
            "2    2024-12-01T13:47:01Z\n",
            "3    2024-02-10T01:11:30Z\n",
            "4    2023-06-01T17:13:40Z\n",
            "Name: Updated, dtype: object\n"
          ]
        }
      ]
    },
    {
      "cell_type": "code",
      "source": [
        "print(dataapple[\"Updated\"].dtype)"
      ],
      "metadata": {
        "colab": {
          "base_uri": "https://localhost:8080/"
        },
        "id": "viszDIz1GRWp",
        "outputId": "e15ac16f-0977-41d4-c968-a7adafab11a9"
      },
      "execution_count": null,
      "outputs": [
        {
          "output_type": "stream",
          "name": "stdout",
          "text": [
            "object\n"
          ]
        }
      ]
    },
    {
      "cell_type": "code",
      "source": [
        "# Ensure the column is treated as datetime\n",
        "dataapple[\"Updated\"] = pd.to_datetime(dataapple[\"Updated\"], format=\"%Y-%m-%dT%H:%M:%SZ\", errors=\"coerce\")\n",
        "\n",
        "# Display first few values to confirm conversion\n",
        "print(dataapple[\"Updated\"].head(10))"
      ],
      "metadata": {
        "colab": {
          "base_uri": "https://localhost:8080/"
        },
        "id": "vGKPIfmcIgOV",
        "outputId": "94a0589b-b842-4c5f-ec8b-35436cb008ce"
      },
      "execution_count": null,
      "outputs": [
        {
          "output_type": "stream",
          "name": "stdout",
          "text": [
            "0   2019-12-03 19:12:05\n",
            "1   2025-01-14 09:40:56\n",
            "2   2024-12-01 13:47:01\n",
            "3   2024-02-10 01:11:30\n",
            "4   2023-06-01 17:13:40\n",
            "5   2024-12-19 04:20:22\n",
            "6   2023-12-11 17:26:20\n",
            "7   2024-11-21 23:52:24\n",
            "8   2025-01-14 21:41:44\n",
            "9   2024-12-24 08:35:33\n",
            "Name: Updated, dtype: datetime64[ns]\n"
          ]
        }
      ]
    },
    {
      "cell_type": "code",
      "source": [
        "print(dataapple.info())"
      ],
      "metadata": {
        "colab": {
          "base_uri": "https://localhost:8080/"
        },
        "id": "Q2CxcS2XIlH_",
        "outputId": "68583153-885c-4d6f-dd53-3e16e62493ad"
      },
      "execution_count": null,
      "outputs": [
        {
          "output_type": "stream",
          "name": "stdout",
          "text": [
            "<class 'pandas.core.frame.DataFrame'>\n",
            "RangeIndex: 34 entries, 0 to 33\n",
            "Data columns (total 27 columns):\n",
            " #   Column                   Non-Null Count  Dtype         \n",
            "---  ------                   --------------  -----         \n",
            " 0   ID                       34 non-null     int64         \n",
            " 1   App ID                   34 non-null     object        \n",
            " 2   Title                    34 non-null     object        \n",
            " 3   URL                      34 non-null     object        \n",
            " 4   Description              34 non-null     object        \n",
            " 5   Genres                   34 non-null     object        \n",
            " 6   Primary Genre            34 non-null     object        \n",
            " 7   Content Rating           34 non-null     object        \n",
            " 8   Languages                34 non-null     object        \n",
            " 9   Size                     34 non-null     int64         \n",
            " 10  Required OS Version      34 non-null     float64       \n",
            " 11  Released                 34 non-null     object        \n",
            " 12  Updated                  34 non-null     datetime64[ns]\n",
            " 13  Release Notes            29 non-null     object        \n",
            " 14  Version                  34 non-null     object        \n",
            " 15  Price                    34 non-null     float64       \n",
            " 16  Currency                 34 non-null     object        \n",
            " 17  Free                     34 non-null     object        \n",
            " 18  Developer ID             34 non-null     int64         \n",
            " 19  Developer                34 non-null     object        \n",
            " 20  Developer URL            34 non-null     object        \n",
            " 21  Developer Website        23 non-null     object        \n",
            " 22  Score                    34 non-null     float64       \n",
            " 23  Reviews                  34 non-null     int64         \n",
            " 24  Current Version Score    34 non-null     float64       \n",
            " 25  Current Version Reviews  34 non-null     int64         \n",
            " 26  Supported Devices        34 non-null     object        \n",
            "dtypes: datetime64[ns](1), float64(4), int64(5), object(17)\n",
            "memory usage: 7.3+ KB\n",
            "None\n"
          ]
        }
      ]
    },
    {
      "cell_type": "code",
      "source": [
        "dataapple[\"Updated\"] = pd.to_datetime(dataapple[\"Updated\"], errors='coerce')  # ✅ Keeps it as datetime\n",
        "\n",
        "# Confirm it's still datetime\n",
        "print(dataapple[\"Updated\"].dtype)  # Should print: datetime64[ns]"
      ],
      "metadata": {
        "colab": {
          "base_uri": "https://localhost:8080/"
        },
        "id": "n5RHK4A1InWZ",
        "outputId": "2b527bbe-1915-404e-e17d-929ff888fec7"
      },
      "execution_count": null,
      "outputs": [
        {
          "output_type": "stream",
          "name": "stdout",
          "text": [
            "datetime64[ns]\n"
          ]
        }
      ]
    },
    {
      "cell_type": "code",
      "source": [
        "#1 Filtering the data based on Rating.\n",
        "\n",
        "dataapplerating = dataapple[dataapple['Score'] >= 2.5]\n",
        "\n",
        "# Display dataset info (number of rows and columns)\n",
        "print(\"\\nDataset Info:\")\n",
        "print(dataapplerating.info())\n",
        "\n"
      ],
      "metadata": {
        "colab": {
          "base_uri": "https://localhost:8080/"
        },
        "id": "WCPxMoBBIuH1",
        "outputId": "6652f60c-bc21-48fa-9f4f-ab4436b1bd20"
      },
      "execution_count": null,
      "outputs": [
        {
          "output_type": "stream",
          "name": "stdout",
          "text": [
            "\n",
            "Dataset Info:\n",
            "<class 'pandas.core.frame.DataFrame'>\n",
            "Index: 13 entries, 0 to 33\n",
            "Data columns (total 27 columns):\n",
            " #   Column                   Non-Null Count  Dtype         \n",
            "---  ------                   --------------  -----         \n",
            " 0   ID                       13 non-null     int64         \n",
            " 1   App ID                   13 non-null     object        \n",
            " 2   Title                    13 non-null     object        \n",
            " 3   URL                      13 non-null     object        \n",
            " 4   Description              13 non-null     object        \n",
            " 5   Genres                   13 non-null     object        \n",
            " 6   Primary Genre            13 non-null     object        \n",
            " 7   Content Rating           13 non-null     object        \n",
            " 8   Languages                13 non-null     object        \n",
            " 9   Size                     13 non-null     int64         \n",
            " 10  Required OS Version      13 non-null     float64       \n",
            " 11  Released                 13 non-null     object        \n",
            " 12  Updated                  13 non-null     datetime64[ns]\n",
            " 13  Release Notes            12 non-null     object        \n",
            " 14  Version                  13 non-null     object        \n",
            " 15  Price                    13 non-null     float64       \n",
            " 16  Currency                 13 non-null     object        \n",
            " 17  Free                     13 non-null     object        \n",
            " 18  Developer ID             13 non-null     int64         \n",
            " 19  Developer                13 non-null     object        \n",
            " 20  Developer URL            13 non-null     object        \n",
            " 21  Developer Website        12 non-null     object        \n",
            " 22  Score                    13 non-null     float64       \n",
            " 23  Reviews                  13 non-null     int64         \n",
            " 24  Current Version Score    13 non-null     float64       \n",
            " 25  Current Version Reviews  13 non-null     int64         \n",
            " 26  Supported Devices        13 non-null     object        \n",
            "dtypes: datetime64[ns](1), float64(4), int64(5), object(17)\n",
            "memory usage: 2.8+ KB\n",
            "None\n"
          ]
        }
      ]
    },
    {
      "cell_type": "code",
      "source": [
        "from datetime import datetime, timedelta\n",
        "import pandas as pd\n",
        "\n",
        "# Step 1: Define the date 5 years ago from today\n",
        "applefive_years_ago = datetime.today() - timedelta(days=5*365)\n",
        "\n",
        "# Step 2: Ensure 'Updated' column is in datetime format\n",
        "dataapplerating = dataapplerating.copy()  # Avoid SettingWithCopyWarning\n",
        "dataapplerating.loc[:, \"Updated\"] = pd.to_datetime(dataapplerating[\"Updated\"], format=\"%Y-%m-%dT%H:%M:%SZ\", errors='coerce')\n",
        "\n",
        "# Step 3: Filter the dataset to keep only apps updated in the last 5 years\n",
        "applerecent_apps_5yrs = dataapplerating[dataapplerating[\"Updated\"] >= applefive_years_ago]\n",
        "\n",
        "print(applerecent_apps_5yrs.info())\n",
        "print(applefive_years_ago)"
      ],
      "metadata": {
        "colab": {
          "base_uri": "https://localhost:8080/"
        },
        "id": "6bU5oj7tJIgK",
        "outputId": "96f2918d-0a44-4ee9-95f8-0dd74d433371"
      },
      "execution_count": null,
      "outputs": [
        {
          "output_type": "stream",
          "name": "stdout",
          "text": [
            "<class 'pandas.core.frame.DataFrame'>\n",
            "Index: 12 entries, 4 to 33\n",
            "Data columns (total 27 columns):\n",
            " #   Column                   Non-Null Count  Dtype         \n",
            "---  ------                   --------------  -----         \n",
            " 0   ID                       12 non-null     int64         \n",
            " 1   App ID                   12 non-null     object        \n",
            " 2   Title                    12 non-null     object        \n",
            " 3   URL                      12 non-null     object        \n",
            " 4   Description              12 non-null     object        \n",
            " 5   Genres                   12 non-null     object        \n",
            " 6   Primary Genre            12 non-null     object        \n",
            " 7   Content Rating           12 non-null     object        \n",
            " 8   Languages                12 non-null     object        \n",
            " 9   Size                     12 non-null     int64         \n",
            " 10  Required OS Version      12 non-null     float64       \n",
            " 11  Released                 12 non-null     object        \n",
            " 12  Updated                  12 non-null     datetime64[ns]\n",
            " 13  Release Notes            11 non-null     object        \n",
            " 14  Version                  12 non-null     object        \n",
            " 15  Price                    12 non-null     float64       \n",
            " 16  Currency                 12 non-null     object        \n",
            " 17  Free                     12 non-null     object        \n",
            " 18  Developer ID             12 non-null     int64         \n",
            " 19  Developer                12 non-null     object        \n",
            " 20  Developer URL            12 non-null     object        \n",
            " 21  Developer Website        12 non-null     object        \n",
            " 22  Score                    12 non-null     float64       \n",
            " 23  Reviews                  12 non-null     int64         \n",
            " 24  Current Version Score    12 non-null     float64       \n",
            " 25  Current Version Reviews  12 non-null     int64         \n",
            " 26  Supported Devices        12 non-null     object        \n",
            "dtypes: datetime64[ns](1), float64(4), int64(5), object(17)\n",
            "memory usage: 2.6+ KB\n",
            "None\n",
            "2020-04-24 00:55:31.205555\n"
          ]
        }
      ]
    },
    {
      "cell_type": "code",
      "source": [
        "# Define the output file path in Google Drive\n",
        "output_file_path = \"/content/drive/My Drive/ApplePostPython.xlsx\"\n",
        "\n",
        "# Save the DataFrame as an Excel file\n",
        "applerecent_apps_5yrs.to_excel(output_file_path, index=False)  # index=False prevents adding an extra index column\n",
        "\n",
        "print(f\"File saved successfully at: {output_file_path}\")"
      ],
      "metadata": {
        "colab": {
          "base_uri": "https://localhost:8080/"
        },
        "id": "LEud9LPOJPNT",
        "outputId": "34458691-66f3-493a-ceef-43ae1d7d41f6"
      },
      "execution_count": null,
      "outputs": [
        {
          "output_type": "stream",
          "name": "stdout",
          "text": [
            "File saved successfully at: /content/drive/My Drive/ApplePostPython.xlsx\n"
          ]
        }
      ]
    },
    {
      "cell_type": "code",
      "source": [],
      "metadata": {
        "id": "wJuBOqFgTbA9"
      },
      "execution_count": null,
      "outputs": []
    }
  ]
}